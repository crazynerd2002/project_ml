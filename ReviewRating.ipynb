{
  "nbformat": 4,
  "nbformat_minor": 0,
  "metadata": {
    "colab": {
      "provenance": [],
      "collapsed_sections": [
        "EwZa81ThPbt3",
        "q6FO9rxjxHe_",
        "IAVIsg26PVZC",
        "FsF3k9QbQc5q"
      ],
      "authorship_tag": "ABX9TyOq3AdAX1qNzcriNTgFq9Al",
      "include_colab_link": true
    },
    "kernelspec": {
      "name": "python3",
      "display_name": "Python 3"
    },
    "language_info": {
      "name": "python"
    }
  },
  "cells": [
    {
      "cell_type": "markdown",
      "metadata": {
        "id": "view-in-github",
        "colab_type": "text"
      },
      "source": [
        "<a href=\"https://colab.research.google.com/github/crazynerd2002/project_ml/blob/main/ReviewRating.ipynb\" target=\"_parent\"><img src=\"https://colab.research.google.com/assets/colab-badge.svg\" alt=\"Open In Colab\"/></a>"
      ]
    },
    {
      "cell_type": "markdown",
      "metadata": {
        "id": "Ag88fDJdv-fv"
      },
      "source": [
        "## Plan of Action\n",
        "\n",
        "\n",
        "1.   Load **IMDb Movie Reviews dataset (50,000 reviews)**\n",
        "2.   **Pre-process dataset** by removing special characters, numbers, etc. from user reviews + convert **sentiment labels** positive & negative to numbers 1 & 0, respectively\n",
        "3.   **Import GloVe Word Embedding** to build Embedding Dictionary + Use this to build Embedding Matrix for our Corpus\n",
        "4. Model Training using **Deep Learning in Keras** for separate **LSTM Model** and analyse model performance and results\n",
        "4. Last, perform **predictions on real IMDb movie reviews**"
      ]
    },
    {
      "cell_type": "markdown",
      "metadata": {
        "id": "EwZa81ThPbt3"
      },
      "source": [
        "## Setting the environment"
      ]
    },
    {
      "cell_type": "code",
      "execution_count": null,
      "metadata": {
        "colab": {
          "base_uri": "https://localhost:8080/"
        },
        "id": "bj1dnOyZOUv2",
        "outputId": "7ade52f5-5ec7-4244-feec-9b5bbda74367"
      },
      "outputs": [
        {
          "output_type": "stream",
          "name": "stdout",
          "text": [
            "Mounted at /content/drive\n"
          ]
        }
      ],
      "source": [
        "# Mounting google drive\n",
        "\n",
        "from google.colab import drive\n",
        "drive.mount('/content/drive')"
      ]
    },
    {
      "cell_type": "code",
      "execution_count": null,
      "metadata": {
        "id": "F0M1fdcBOf_Y",
        "colab": {
          "base_uri": "https://localhost:8080/"
        },
        "outputId": "8a66811b-b699-4e46-9ccb-f6cf19cdb140"
      },
      "outputs": [
        {
          "output_type": "stream",
          "name": "stdout",
          "text": [
            "/content/drive/MyDrive/Project_Work\n",
            "a1_IMDB_Dataset.csv   a3_IMDb_Unseen_Reviews.csv  ReviewRating.ipynb\n",
            "a2_glove.6B.100d.txt  b3_tokenizer.json\n"
          ]
        }
      ],
      "source": [
        "# Setting toolkit folder as working directory\n",
        "\n",
        "%cd /content/drive/MyDrive/Project_Work\n",
        "! ls"
      ]
    },
    {
      "cell_type": "code",
      "execution_count": null,
      "metadata": {
        "id": "W-vpR9QCOn2i",
        "colab": {
          "base_uri": "https://localhost:8080/"
        },
        "outputId": "b1c8eb51-ad93-495e-e3c7-0df550ea569a"
      },
      "outputs": [
        {
          "output_type": "stream",
          "name": "stdout",
          "text": [
            "Essential Libraries and Functions Imported\n"
          ]
        }
      ],
      "source": [
        "# Importing essential libraries and functions\n",
        "\n",
        "import pandas as pd\n",
        "import numpy as np\n",
        "import re\n",
        "import nltk\n",
        "from nltk.corpus import stopwords\n",
        "from numpy import array\n",
        "import tensorflow as tf\n",
        "from keras.preprocessing.text import one_hot, Tokenizer\n",
        "from tensorflow.keras.preprocessing.sequence import pad_sequences\n",
        "from keras.models import Sequential\n",
        "from keras.layers.core import Activation, Dropout, Dense\n",
        "from keras.layers import Flatten, GlobalMaxPooling1D, Embedding, Conv1D, LSTM\n",
        "from sklearn.model_selection import train_test_split\n",
        "\n",
        "print(\"Essential Libraries and Functions Imported\")"
      ]
    },
    {
      "cell_type": "markdown",
      "source": [
        "## Loading dataset"
      ],
      "metadata": {
        "id": "q6FO9rxjxHe_"
      }
    },
    {
      "cell_type": "code",
      "source": [
        "# Importing IMDb Movie Reviews dataset\n",
        "\n",
        "movie_reviews = pd.read_csv(\"a1_IMDB_Dataset.csv\")# dataset source: https://www.kaggle.com/datasets/lakshmi25npathi/imdb-dataset-of-50k-movie-reviews\n",
        "\n",
        "# Dataset exploration\n",
        "\n",
        "movie_reviews.shape\n",
        "movie_reviews.head(5)"
      ],
      "metadata": {
        "colab": {
          "base_uri": "https://localhost:8080/",
          "height": 206
        },
        "id": "2UjJqfBWgyxf",
        "outputId": "77e08f44-db16-4b2c-e9b4-b091feb7df99"
      },
      "execution_count": null,
      "outputs": [
        {
          "output_type": "execute_result",
          "data": {
            "text/plain": [
              "                                              review sentiment\n",
              "0  One of the other reviewers has mentioned that ...  positive\n",
              "1  A wonderful little production. <br /><br />The...  positive\n",
              "2  I thought this was a wonderful way to spend ti...  positive\n",
              "3  Basically there's a family where a little boy ...  negative\n",
              "4  Petter Mattei's \"Love in the Time of Money\" is...  positive"
            ],
            "text/html": [
              "\n",
              "  <div id=\"df-864ed713-7033-4a7a-96e3-7194ddc14c95\">\n",
              "    <div class=\"colab-df-container\">\n",
              "      <div>\n",
              "<style scoped>\n",
              "    .dataframe tbody tr th:only-of-type {\n",
              "        vertical-align: middle;\n",
              "    }\n",
              "\n",
              "    .dataframe tbody tr th {\n",
              "        vertical-align: top;\n",
              "    }\n",
              "\n",
              "    .dataframe thead th {\n",
              "        text-align: right;\n",
              "    }\n",
              "</style>\n",
              "<table border=\"1\" class=\"dataframe\">\n",
              "  <thead>\n",
              "    <tr style=\"text-align: right;\">\n",
              "      <th></th>\n",
              "      <th>review</th>\n",
              "      <th>sentiment</th>\n",
              "    </tr>\n",
              "  </thead>\n",
              "  <tbody>\n",
              "    <tr>\n",
              "      <th>0</th>\n",
              "      <td>One of the other reviewers has mentioned that ...</td>\n",
              "      <td>positive</td>\n",
              "    </tr>\n",
              "    <tr>\n",
              "      <th>1</th>\n",
              "      <td>A wonderful little production. &lt;br /&gt;&lt;br /&gt;The...</td>\n",
              "      <td>positive</td>\n",
              "    </tr>\n",
              "    <tr>\n",
              "      <th>2</th>\n",
              "      <td>I thought this was a wonderful way to spend ti...</td>\n",
              "      <td>positive</td>\n",
              "    </tr>\n",
              "    <tr>\n",
              "      <th>3</th>\n",
              "      <td>Basically there's a family where a little boy ...</td>\n",
              "      <td>negative</td>\n",
              "    </tr>\n",
              "    <tr>\n",
              "      <th>4</th>\n",
              "      <td>Petter Mattei's \"Love in the Time of Money\" is...</td>\n",
              "      <td>positive</td>\n",
              "    </tr>\n",
              "  </tbody>\n",
              "</table>\n",
              "</div>\n",
              "      <button class=\"colab-df-convert\" onclick=\"convertToInteractive('df-864ed713-7033-4a7a-96e3-7194ddc14c95')\"\n",
              "              title=\"Convert this dataframe to an interactive table.\"\n",
              "              style=\"display:none;\">\n",
              "        \n",
              "  <svg xmlns=\"http://www.w3.org/2000/svg\" height=\"24px\"viewBox=\"0 0 24 24\"\n",
              "       width=\"24px\">\n",
              "    <path d=\"M0 0h24v24H0V0z\" fill=\"none\"/>\n",
              "    <path d=\"M18.56 5.44l.94 2.06.94-2.06 2.06-.94-2.06-.94-.94-2.06-.94 2.06-2.06.94zm-11 1L8.5 8.5l.94-2.06 2.06-.94-2.06-.94L8.5 2.5l-.94 2.06-2.06.94zm10 10l.94 2.06.94-2.06 2.06-.94-2.06-.94-.94-2.06-.94 2.06-2.06.94z\"/><path d=\"M17.41 7.96l-1.37-1.37c-.4-.4-.92-.59-1.43-.59-.52 0-1.04.2-1.43.59L10.3 9.45l-7.72 7.72c-.78.78-.78 2.05 0 2.83L4 21.41c.39.39.9.59 1.41.59.51 0 1.02-.2 1.41-.59l7.78-7.78 2.81-2.81c.8-.78.8-2.07 0-2.86zM5.41 20L4 18.59l7.72-7.72 1.47 1.35L5.41 20z\"/>\n",
              "  </svg>\n",
              "      </button>\n",
              "      \n",
              "  <style>\n",
              "    .colab-df-container {\n",
              "      display:flex;\n",
              "      flex-wrap:wrap;\n",
              "      gap: 12px;\n",
              "    }\n",
              "\n",
              "    .colab-df-convert {\n",
              "      background-color: #E8F0FE;\n",
              "      border: none;\n",
              "      border-radius: 50%;\n",
              "      cursor: pointer;\n",
              "      display: none;\n",
              "      fill: #1967D2;\n",
              "      height: 32px;\n",
              "      padding: 0 0 0 0;\n",
              "      width: 32px;\n",
              "    }\n",
              "\n",
              "    .colab-df-convert:hover {\n",
              "      background-color: #E2EBFA;\n",
              "      box-shadow: 0px 1px 2px rgba(60, 64, 67, 0.3), 0px 1px 3px 1px rgba(60, 64, 67, 0.15);\n",
              "      fill: #174EA6;\n",
              "    }\n",
              "\n",
              "    [theme=dark] .colab-df-convert {\n",
              "      background-color: #3B4455;\n",
              "      fill: #D2E3FC;\n",
              "    }\n",
              "\n",
              "    [theme=dark] .colab-df-convert:hover {\n",
              "      background-color: #434B5C;\n",
              "      box-shadow: 0px 1px 3px 1px rgba(0, 0, 0, 0.15);\n",
              "      filter: drop-shadow(0px 1px 2px rgba(0, 0, 0, 0.3));\n",
              "      fill: #FFFFFF;\n",
              "    }\n",
              "  </style>\n",
              "\n",
              "      <script>\n",
              "        const buttonEl =\n",
              "          document.querySelector('#df-864ed713-7033-4a7a-96e3-7194ddc14c95 button.colab-df-convert');\n",
              "        buttonEl.style.display =\n",
              "          google.colab.kernel.accessAllowed ? 'block' : 'none';\n",
              "\n",
              "        async function convertToInteractive(key) {\n",
              "          const element = document.querySelector('#df-864ed713-7033-4a7a-96e3-7194ddc14c95');\n",
              "          const dataTable =\n",
              "            await google.colab.kernel.invokeFunction('convertToInteractive',\n",
              "                                                     [key], {});\n",
              "          if (!dataTable) return;\n",
              "\n",
              "          const docLinkHtml = 'Like what you see? Visit the ' +\n",
              "            '<a target=\"_blank\" href=https://colab.research.google.com/notebooks/data_table.ipynb>data table notebook</a>'\n",
              "            + ' to learn more about interactive tables.';\n",
              "          element.innerHTML = '';\n",
              "          dataTable['output_type'] = 'display_data';\n",
              "          await google.colab.output.renderOutput(dataTable, element);\n",
              "          const docLink = document.createElement('div');\n",
              "          docLink.innerHTML = docLinkHtml;\n",
              "          element.appendChild(docLink);\n",
              "        }\n",
              "      </script>\n",
              "    </div>\n",
              "  </div>\n",
              "  "
            ]
          },
          "metadata": {},
          "execution_count": 4
        }
      ]
    },
    {
      "cell_type": "code",
      "source": [
        "# Checking for missing values\n",
        "\n",
        "movie_reviews.isnull().values.any()"
      ],
      "metadata": {
        "colab": {
          "base_uri": "https://localhost:8080/"
        },
        "id": "Hz8NGm3Es_DP",
        "outputId": "675e8a43-2236-4f38-a503-f57e5d106929"
      },
      "execution_count": null,
      "outputs": [
        {
          "output_type": "execute_result",
          "data": {
            "text/plain": [
              "False"
            ]
          },
          "metadata": {},
          "execution_count": 5
        }
      ]
    },
    {
      "cell_type": "code",
      "source": [
        "# Observe distribution of positive / negative sentiments in dataset\n",
        "\n",
        "import seaborn as sns\n",
        "sns.countplot(x='sentiment', data=movie_reviews)"
      ],
      "metadata": {
        "colab": {
          "base_uri": "https://localhost:8080/",
          "height": 467
        },
        "id": "YfDISNwEtOqJ",
        "outputId": "20c1e7b6-6fd3-4fda-c564-61b780c6b610"
      },
      "execution_count": null,
      "outputs": [
        {
          "output_type": "execute_result",
          "data": {
            "text/plain": [
              "<Axes: xlabel='sentiment', ylabel='count'>"
            ]
          },
          "metadata": {},
          "execution_count": 6
        },
        {
          "output_type": "display_data",
          "data": {
            "text/plain": [
              "<Figure size 640x480 with 1 Axes>"
            ],
            "image/png": "[encoded data removed]"
          },
          "metadata": {}
        }
      ]
    },
    {
      "cell_type": "markdown",
      "metadata": {
        "id": "IAVIsg26PVZC"
      },
      "source": [
        "## Data Preprocessing"
      ]
    },
    {
      "cell_type": "code",
      "execution_count": null,
      "metadata": {
        "id": "PJ6a6aKjPORv",
        "colab": {
          "base_uri": "https://localhost:8080/",
          "height": 144
        },
        "outputId": "e2c91de6-7487-48a4-c555-8dba030c0a42"
      },
      "outputs": [
        {
          "output_type": "execute_result",
          "data": {
            "text/plain": [
              "'I thought this was a wonderful way to spend time on a too hot summer weekend, sitting in the air conditioned theater and watching a light-hearted comedy. The plot is simplistic, but the dialogue is witty and the characters are likable (even the well bread suspected serial killer). While some may be disappointed when they realize this is not Match Point 2: Risk Addiction, I thought it was proof that Woody Allen is still fully in control of the style many of us have grown to love.<br /><br />This was the most I\\'d laughed at one of Woody\\'s comedies in years (dare I say a decade?). While I\\'ve never been impressed with Scarlet Johanson, in this she managed to tone down her \"sexy\" image and jumped right into a average, but spirited young woman.<br /><br />This may not be the crown jewel of his career, but it was wittier than \"Devil Wears Prada\" and more interesting than \"Superman\" a great comedy to go see with friends.'"
            ],
            "application/vnd.google.colaboratory.intrinsic+json": {
              "type": "string"
            }
          },
          "metadata": {},
          "execution_count": 7
        }
      ],
      "source": [
        "movie_reviews[\"review\"][2]\n",
        "\n",
        "# Text contains punctuations, brackets, HTML tags and numbers.\n",
        "# Preprocess this text to remove unwanted text."
      ]
    },
    {
      "cell_type": "code",
      "source": [
        "# # import b2_preprocessing_function\n",
        "# from b2_preprocessing_function import CustomPreprocess\n",
        "# custom = CustomPreprocess()\n",
        "# custom.preprocess_text(\"Those were the best days of my life!\")"
      ],
      "metadata": {
        "id": "iDwr4UbTwmzk"
      },
      "execution_count": null,
      "outputs": []
    },
    {
      "cell_type": "code",
      "source": [
        "TAG_RE = re.compile(r'<[^>]+>')\n",
        "def remove_tags(text):\n",
        "    # Removes HTML tags and replaces anything between tags with empty space\n",
        "    return TAG_RE.sub('', text)\n",
        "import nltk\n",
        "nltk.download('stopwords')\n",
        "def preprocess_text(sen):\n",
        "    # Cleans text data up, leaving only 2 or more char long non-stepwords composed of A-Z & a-z only in lowercase\n",
        "    sentence = sen.lower()\n",
        "    # Remove html tags\n",
        "    sentence = remove_tags(sentence)\n",
        "    # Remove punctuations and numbers\n",
        "    sentence = re.sub('[^a-zA-Z]', ' ', sentence)\n",
        "    # Single character removal\n",
        "    sentence = re.sub(r\"\\s+[a-zA-Z]\\s+\", ' ', sentence)\n",
        "    # Remove multiple spaces\n",
        "    sentence = re.sub(r'\\s+', ' ', sentence)\n",
        "    # Remove Stopwords\n",
        "    pattern = re.compile(r'\\b(' + r'|'.join(stopwords.words('english')) + r')\\b\\s*')\n",
        "    sentence = pattern.sub('', sentence)\n",
        "\n",
        "    return sentence"
      ],
      "metadata": {
        "colab": {
          "base_uri": "https://localhost:8080/"
        },
        "id": "0ESFe7hQuxSQ",
        "outputId": "e80b0bb0-61a0-469a-c8c0-58eb5dc379ac"
      },
      "execution_count": null,
      "outputs": [
        {
          "output_type": "stream",
          "name": "stderr",
          "text": [
            "[nltk_data] Downloading package stopwords to /root/nltk_data...\n",
            "[nltk_data]   Unzipping corpora/stopwords.zip.\n"
          ]
        }
      ]
    },
    {
      "cell_type": "code",
      "source": [
        "# preprocessing on movie_reviews\n",
        "X = []\n",
        "sentences = list(movie_reviews['review'])\n",
        "for sen in sentences:\n",
        "    X.append(preprocess_text(sen))\n",
        "X[2]"
      ],
      "metadata": {
        "colab": {
          "base_uri": "https://localhost:8080/",
          "height": 90
        },
        "id": "I4x-b_i0A50a",
        "outputId": "5fb0fe29-362a-4da5-bcd3-ed309bf638c3"
      },
      "execution_count": null,
      "outputs": [
        {
          "output_type": "execute_result",
          "data": {
            "text/plain": [
              "'thought wonderful way spend time hot summer weekend sitting air conditioned theater watching light hearted comedy plot simplistic dialogue witty characters likable even well bread suspected serial killer may disappointed realize match point risk addiction thought proof woody allen still fully control style many us grown love laughed one woody comedies years dare say decade never impressed scarlet johanson managed tone sexy image jumped right average spirited young woman may crown jewel career wittier devil wears prada interesting superman great comedy go see friends '"
            ],
            "application/vnd.google.colaboratory.intrinsic+json": {
              "type": "string"
            }
          },
          "metadata": {},
          "execution_count": 10
        }
      ]
    },
    {
      "cell_type": "code",
      "source": [
        "# Converting sentiment labels to 0 & 1\n",
        "\n",
        "y = movie_reviews['sentiment']\n",
        "y = np.array(list(map(lambda x: 1 if x==\"positive\" else 0, y)))\n",
        "X_train, X_test, y_train, y_test = train_test_split(X, y, test_size=0.20, random_state=42)"
      ],
      "metadata": {
        "id": "XCg0wAsrH7Tg"
      },
      "execution_count": null,
      "outputs": []
    },
    {
      "cell_type": "markdown",
      "metadata": {
        "id": "FsF3k9QbQc5q"
      },
      "source": [
        "## Preparing embedding layer"
      ]
    },
    {
      "cell_type": "markdown",
      "source": [
        "Embedding layer converts our textual data into numeric form. It is then **used as the first layer for the deep learning models in Keras**."
      ],
      "metadata": {
        "id": "hv27X0dUcurD"
      }
    },
    {
      "cell_type": "code",
      "source": [
        "# Embedding layer expects the words to be in numeric form\n",
        "# Using Tokenizer function from keras.preprocessing.text library\n",
        "# Method fit_on_text trains the tokenizer\n",
        "# Method texts_to_sequences converts sentences to their numeric form\n",
        "\n",
        "word_tokenizer = Tokenizer()\n",
        "word_tokenizer.fit_on_texts(X_train)\n",
        "X_train = word_tokenizer.texts_to_sequences(X_train)\n",
        "X_test = word_tokenizer.texts_to_sequences(X_test)\n",
        "# vocab_length = len(word_tokenizer.word_index) + 1\n",
        "# vocab_length"
      ],
      "metadata": {
        "id": "kZ5kWzGKeAgc"
      },
      "execution_count": null,
      "outputs": []
    },
    {
      "cell_type": "code",
      "source": [
        "import io\n",
        "import json\n",
        "# Saving\n",
        "tokenizer_json = word_tokenizer.to_json()\n",
        "with io.open('b3_tokenizer.json', 'w', encoding='utf-8') as f:\n",
        "    f.write(json.dumps(tokenizer_json, ensure_ascii=False))\n",
        "# Adding 1 to store dimensions for words for which no pretrained word embeddings exist\n",
        "vocab_length = len(word_tokenizer.word_index) + 1\n",
        "vocab_length"
      ],
      "metadata": {
        "colab": {
          "base_uri": "https://localhost:8080/"
        },
        "id": "ycCuQ4djMJ_V",
        "outputId": "31f497d4-de34-4b6d-fb1a-7f9a9c518d71"
      },
      "execution_count": null,
      "outputs": [
        {
          "output_type": "execute_result",
          "data": {
            "text/plain": [
              "92394"
            ]
          },
          "metadata": {},
          "execution_count": 13
        }
      ]
    },
    {
      "cell_type": "code",
      "source": [
        "# Padding all reviews to fixed length 100\n",
        "\n",
        "maxlen = 100\n",
        "X_train = pad_sequences(X_train, padding='post', maxlen=maxlen)\n",
        "X_test = pad_sequences(X_test, padding='post', maxlen=maxlen)\n",
        "\n",
        "# Load GloVe word embeddings and create an Embeddings Dictionary\n",
        "\n",
        "from numpy import asarray\n",
        "from numpy import zeros\n",
        "embeddings_dictionary = dict()\n",
        "glove_file = open('a2_glove.6B.100d.txt', encoding=\"utf8\")\n",
        "for line in glove_file:\n",
        "    records = line.split()\n",
        "    word = records[0]\n",
        "    vector_dimensions = asarray(records[1:], dtype='float32')\n",
        "    embeddings_dictionary [word] = vector_dimensions\n",
        "glove_file.close()"
      ],
      "metadata": {
        "id": "4thEZIaPP6vd"
      },
      "execution_count": null,
      "outputs": []
    },
    {
      "cell_type": "code",
      "source": [
        "# Create Embedding Matrix having 100 columns\n",
        "# Containing 100-dimensional GloVe word embeddings for all words in our corpus.\n",
        "\n",
        "embedding_matrix = zeros((vocab_length, 100))\n",
        "for word, index in word_tokenizer.word_index.items():\n",
        "    embedding_vector = embeddings_dictionary.get(word)\n",
        "    if embedding_vector is not None:\n",
        "        embedding_matrix[index] = embedding_vector\n",
        "embedding_matrix.shape"
      ],
      "metadata": {
        "colab": {
          "base_uri": "https://localhost:8080/"
        },
        "id": "lOovB5PHQVI9",
        "outputId": "aa78e0af-1a58-4692-ad01-68ad23559c16"
      },
      "execution_count": null,
      "outputs": [
        {
          "output_type": "execute_result",
          "data": {
            "text/plain": [
              "(92394, 100)"
            ]
          },
          "metadata": {},
          "execution_count": 15
        }
      ]
    },
    {
      "cell_type": "markdown",
      "metadata": {
        "id": "2QTts_XPS1Wn"
      },
      "source": [
        "## Recurrent Neural Network (LSTM)"
      ]
    },
    {
      "cell_type": "code",
      "source": [
        "from keras.layers import LSTM\n",
        "# Neural Network architecture\n",
        "\n",
        "lstm_model = Sequential()\n",
        "embedding_layer = Embedding(vocab_length, 100, weights=[embedding_matrix], input_length=maxlen , trainable=False)\n",
        "lstm_model.add(embedding_layer)\n",
        "lstm_model.add(LSTM(128))\n",
        "lstm_model.add(Dense(1, activation='sigmoid'))\n",
        "\n",
        "# Model compiling\n",
        "\n",
        "lstm_model.compile(optimizer='adam', loss='binary_crossentropy', metrics=['acc'])\n",
        "print(lstm_model.summary())"
      ],
      "metadata": {
        "colab": {
          "base_uri": "https://localhost:8080/"
        },
        "id": "7YTa392NY6lb",
        "outputId": "1dec9be8-28d8-42d8-8e1a-9e538c5394ae"
      },
      "execution_count": null,
      "outputs": [
        {
          "output_type": "stream",
          "name": "stdout",
          "text": [
            "Model: \"sequential\"\n",
            "_________________________________________________________________\n",
            " Layer (type)                Output Shape              Param #   \n",
            "=================================================================\n",
            " embedding (Embedding)       (None, 100, 100)          9239400   \n",
            "                                                                 \n",
            " lstm (LSTM)                 (None, 128)               117248    \n",
            "                                                                 \n",
            " dense (Dense)               (None, 1)                 129       \n",
            "                                                                 \n",
            "=================================================================\n",
            "Total params: 9,356,777\n",
            "Trainable params: 117,377\n",
            "Non-trainable params: 9,239,400\n",
            "_________________________________________________________________\n",
            "None\n"
          ]
        }
      ]
    },
    {
      "cell_type": "code",
      "source": [
        "# Model Training\n",
        "\n",
        "lstm_model_history = lstm_model.fit(X_train, y_train, batch_size=128, epochs=6, verbose=1, validation_split=0.2)"
      ],
      "metadata": {
        "colab": {
          "base_uri": "https://localhost:8080/"
        },
        "id": "CSHx5EyTZ0Zs",
        "outputId": "9c849178-5141-434d-ad3f-327a27a677f2"
      },
      "execution_count": null,
      "outputs": [
        {
          "output_type": "stream",
          "name": "stdout",
          "text": [
            "Epoch 1/6\n",
            "250/250 [==============================] - 92s 360ms/step - loss: 0.5076 - acc: 0.7548 - val_loss: 0.4446 - val_acc: 0.8086\n",
            "Epoch 2/6\n",
            "250/250 [==============================] - 89s 358ms/step - loss: 0.4096 - acc: 0.8175 - val_loss: 0.4559 - val_acc: 0.8177\n",
            "Epoch 3/6\n",
            "250/250 [==============================] - 102s 408ms/step - loss: 0.3739 - acc: 0.8349 - val_loss: 0.3455 - val_acc: 0.8506\n",
            "Epoch 4/6\n",
            "250/250 [==============================] - 102s 408ms/step - loss: 0.3400 - acc: 0.8538 - val_loss: 0.3346 - val_acc: 0.8556\n",
            "Epoch 5/6\n",
            "250/250 [==============================] - 95s 381ms/step - loss: 0.3208 - acc: 0.8645 - val_loss: 0.3188 - val_acc: 0.8633\n",
            "Epoch 6/6\n",
            "250/250 [==============================] - 90s 361ms/step - loss: 0.3017 - acc: 0.8748 - val_loss: 0.3098 - val_acc: 0.8701\n"
          ]
        }
      ]
    },
    {
      "cell_type": "code",
      "source": [
        "# Predictions on the Test Set\n",
        "\n",
        "score = lstm_model.evaluate(X_test, y_test, verbose=1)"
      ],
      "metadata": {
        "colab": {
          "base_uri": "https://localhost:8080/"
        },
        "id": "zR9dUWYahWBR",
        "outputId": "17afc429-989c-49e6-8669-71c2a2cf9d1a"
      },
      "execution_count": null,
      "outputs": [
        {
          "output_type": "stream",
          "name": "stdout",
          "text": [
            "313/313 [==============================] - 21s 66ms/step - loss: 0.3102 - acc: 0.8667\n"
          ]
        }
      ]
    },
    {
      "cell_type": "code",
      "source": [
        "# Model Performance\n",
        "\n",
        "print(\"Test Score:\", score[0])\n",
        "print(\"Test Accuracy:\", score[1])"
      ],
      "metadata": {
        "colab": {
          "base_uri": "https://localhost:8080/"
        },
        "id": "YS76r_dBhq9w",
        "outputId": "f7532318-801f-463c-b5d9-27140b2ac510"
      },
      "execution_count": null,
      "outputs": [
        {
          "output_type": "stream",
          "name": "stdout",
          "text": [
            "Test Score: 0.3102118968963623\n",
            "Test Accuracy: 0.8666999936103821\n"
          ]
        }
      ]
    },
    {
      "cell_type": "code",
      "source": [
        "# Model Performance Charts\n",
        "\n",
        "import matplotlib.pyplot as plt\n",
        "\n",
        "plt.plot(lstm_model_history.history['acc'])\n",
        "plt.plot(lstm_model_history.history['val_acc'])\n",
        "\n",
        "plt.title('model accuracy')\n",
        "plt.ylabel('accuracy')\n",
        "plt.xlabel('epoch')\n",
        "plt.legend(['train','test'], loc='upper left')\n",
        "plt.show()\n",
        "\n",
        "plt.plot(lstm_model_history.history['loss'])\n",
        "plt.plot(lstm_model_history.history['val_loss'])\n",
        "\n",
        "plt.title('model loss')\n",
        "plt.ylabel('loss')\n",
        "plt.xlabel('epoch')\n",
        "plt.legend(['train','test'], loc='upper left')\n",
        "plt.show()"
      ],
      "metadata": {
        "colab": {
          "base_uri": "https://localhost:8080/",
          "height": 927
        },
        "id": "LtmnwI3eiIND",
        "outputId": "b65dd208-5b79-4dd5-88e1-43180673e62c"
      },
      "execution_count": null,
      "outputs": [
        {
          "output_type": "display_data",
          "data": {
            "text/plain": [
              "<Figure size 640x480 with 1 Axes>"
            ],
            "image/png": "[encoded data removed]"
          },
          "metadata": {}
        },
        {
          "output_type": "display_data",
          "data": {
            "text/plain": [
              "<Figure size 640x480 with 1 Axes>"
            ],
            "image/png": "[encoded data removed]"
          },
          "metadata": {}
        }
      ]
    },
    {
      "cell_type": "code",
      "source": [
        "# Saving the model as a h5 file for later use\n",
        "\n",
        "lstm_model.save(f\"./c1_lstm_model_acc_{round(score[1], 3)}.h5\", save_format='h5')"
      ],
      "metadata": {
        "id": "u3tFpZbxieL7"
      },
      "execution_count": null,
      "outputs": []
    },
    {
      "cell_type": "markdown",
      "metadata": {
        "id": "CF77MN1uTHbG"
      },
      "source": [
        "# Making Predictions on Live IMDb data"
      ]
    },
    {
      "cell_type": "code",
      "source": [
        "!ls"
      ],
      "metadata": {
        "colab": {
          "base_uri": "https://localhost:8080/"
        },
        "id": "eZeEAcc3Rzj-",
        "outputId": "b144288e-0441-46a3-fbbf-c7564b3f108a"
      },
      "execution_count": null,
      "outputs": [
        {
          "output_type": "stream",
          "name": "stdout",
          "text": [
            "a1_IMDB_Dataset.csv   a3_IMDb_Unseen_Reviews.csv  c1_lstm_model_acc_0.867.h5\n",
            "a2_glove.6B.100d.txt  b3_tokenizer.json\t\t  ReviewRating.ipynb\n"
          ]
        }
      ]
    },
    {
      "cell_type": "code",
      "source": [
        "# Load previously trained LSTM Model\n",
        "from keras.models import load_model\n",
        "model_path ='./c1_lstm_model_acc_0.867.h5'\n",
        "pretrained_lstm_model = load_model(model_path)\n",
        "# summarize model.\n",
        "pretrained_lstm_model.summary()"
      ],
      "metadata": {
        "colab": {
          "base_uri": "https://localhost:8080/"
        },
        "id": "dJtXh1guTpCz",
        "outputId": "f1288bae-73a3-4668-97f1-af363501d27b"
      },
      "execution_count": null,
      "outputs": [
        {
          "output_type": "stream",
          "name": "stdout",
          "text": [
            "Model: \"sequential\"\n",
            "_________________________________________________________________\n",
            " Layer (type)                Output Shape              Param #   \n",
            "=================================================================\n",
            " embedding (Embedding)       (None, 100, 100)          9239400   \n",
            "                                                                 \n",
            " lstm (LSTM)                 (None, 128)               117248    \n",
            "                                                                 \n",
            " dense (Dense)               (None, 1)                 129       \n",
            "                                                                 \n",
            "=================================================================\n",
            "Total params: 9,356,777\n",
            "Trainable params: 117,377\n",
            "Non-trainable params: 9,239,400\n",
            "_________________________________________________________________\n"
          ]
        }
      ]
    },
    {
      "cell_type": "code",
      "source": [
        "# Load sample IMDb reviews csv, having ~6 movie reviews, along with their IMDb rating\n",
        "sample_reviews = pd.read_csv(\"a3_IMDb_Unseen_Reviews.csv\")\n",
        "sample_reviews.head(6)"
      ],
      "metadata": {
        "colab": {
          "base_uri": "https://localhost:8080/",
          "height": 237
        },
        "id": "BLSqV2GIUVL7",
        "outputId": "93805edc-8f72-4e52-e4ac-9e25b6b0f2e3"
      },
      "execution_count": null,
      "outputs": [
        {
          "output_type": "execute_result",
          "data": {
            "text/plain": [
              "   Unnamed: 0       Movie                                        Review Text  \\\n",
              "0           0  Ex Machina  Intelligent Movie.\\nThis movie is obviously al...   \n",
              "1           1  Ex Machina  Extraordinary and thought-provoking.\\n'Ex mach...   \n",
              "2           2  Ex Machina  Poor story, only reasonable otherwise.\\nIf I h...   \n",
              "3           3  Ex Machina  Had Great Potential.\\nThis movie is one of the...   \n",
              "4           4    Eternals  Amazing visuals and philosophical concepts!\\n\\...   \n",
              "5           5    Eternals  Worst MCU film ever\\n\\nFollowing the events of...   \n",
              "\n",
              "   IMDb Rating  \n",
              "0            9  \n",
              "1           10  \n",
              "2            3  \n",
              "3            1  \n",
              "4           10  \n",
              "5            3  "
            ],
            "text/html": [
              "\n",
              "  <div id=\"df-9755b4c7-958b-415c-9013-4d38f158493d\">\n",
              "    <div class=\"colab-df-container\">\n",
              "      <div>\n",
              "<style scoped>\n",
              "    .dataframe tbody tr th:only-of-type {\n",
              "        vertical-align: middle;\n",
              "    }\n",
              "\n",
              "    .dataframe tbody tr th {\n",
              "        vertical-align: top;\n",
              "    }\n",
              "\n",
              "    .dataframe thead th {\n",
              "        text-align: right;\n",
              "    }\n",
              "</style>\n",
              "<table border=\"1\" class=\"dataframe\">\n",
              "  <thead>\n",
              "    <tr style=\"text-align: right;\">\n",
              "      <th></th>\n",
              "      <th>Unnamed: 0</th>\n",
              "      <th>Movie</th>\n",
              "      <th>Review Text</th>\n",
              "      <th>IMDb Rating</th>\n",
              "    </tr>\n",
              "  </thead>\n",
              "  <tbody>\n",
              "    <tr>\n",
              "      <th>0</th>\n",
              "      <td>0</td>\n",
              "      <td>Ex Machina</td>\n",
              "      <td>Intelligent Movie.\\nThis movie is obviously al...</td>\n",
              "      <td>9</td>\n",
              "    </tr>\n",
              "    <tr>\n",
              "      <th>1</th>\n",
              "      <td>1</td>\n",
              "      <td>Ex Machina</td>\n",
              "      <td>Extraordinary and thought-provoking.\\n'Ex mach...</td>\n",
              "      <td>10</td>\n",
              "    </tr>\n",
              "    <tr>\n",
              "      <th>2</th>\n",
              "      <td>2</td>\n",
              "      <td>Ex Machina</td>\n",
              "      <td>Poor story, only reasonable otherwise.\\nIf I h...</td>\n",
              "      <td>3</td>\n",
              "    </tr>\n",
              "    <tr>\n",
              "      <th>3</th>\n",
              "      <td>3</td>\n",
              "      <td>Ex Machina</td>\n",
              "      <td>Had Great Potential.\\nThis movie is one of the...</td>\n",
              "      <td>1</td>\n",
              "    </tr>\n",
              "    <tr>\n",
              "      <th>4</th>\n",
              "      <td>4</td>\n",
              "      <td>Eternals</td>\n",
              "      <td>Amazing visuals and philosophical concepts!\\n\\...</td>\n",
              "      <td>10</td>\n",
              "    </tr>\n",
              "    <tr>\n",
              "      <th>5</th>\n",
              "      <td>5</td>\n",
              "      <td>Eternals</td>\n",
              "      <td>Worst MCU film ever\\n\\nFollowing the events of...</td>\n",
              "      <td>3</td>\n",
              "    </tr>\n",
              "  </tbody>\n",
              "</table>\n",
              "</div>\n",
              "      <button class=\"colab-df-convert\" onclick=\"convertToInteractive('df-9755b4c7-958b-415c-9013-4d38f158493d')\"\n",
              "              title=\"Convert this dataframe to an interactive table.\"\n",
              "              style=\"display:none;\">\n",
              "        \n",
              "  <svg xmlns=\"http://www.w3.org/2000/svg\" height=\"24px\"viewBox=\"0 0 24 24\"\n",
              "       width=\"24px\">\n",
              "    <path d=\"M0 0h24v24H0V0z\" fill=\"none\"/>\n",
              "    <path d=\"M18.56 5.44l.94 2.06.94-2.06 2.06-.94-2.06-.94-.94-2.06-.94 2.06-2.06.94zm-11 1L8.5 8.5l.94-2.06 2.06-.94-2.06-.94L8.5 2.5l-.94 2.06-2.06.94zm10 10l.94 2.06.94-2.06 2.06-.94-2.06-.94-.94-2.06-.94 2.06-2.06.94z\"/><path d=\"M17.41 7.96l-1.37-1.37c-.4-.4-.92-.59-1.43-.59-.52 0-1.04.2-1.43.59L10.3 9.45l-7.72 7.72c-.78.78-.78 2.05 0 2.83L4 21.41c.39.39.9.59 1.41.59.51 0 1.02-.2 1.41-.59l7.78-7.78 2.81-2.81c.8-.78.8-2.07 0-2.86zM5.41 20L4 18.59l7.72-7.72 1.47 1.35L5.41 20z\"/>\n",
              "  </svg>\n",
              "      </button>\n",
              "      \n",
              "  <style>\n",
              "    .colab-df-container {\n",
              "      display:flex;\n",
              "      flex-wrap:wrap;\n",
              "      gap: 12px;\n",
              "    }\n",
              "\n",
              "    .colab-df-convert {\n",
              "      background-color: #E8F0FE;\n",
              "      border: none;\n",
              "      border-radius: 50%;\n",
              "      cursor: pointer;\n",
              "      display: none;\n",
              "      fill: #1967D2;\n",
              "      height: 32px;\n",
              "      padding: 0 0 0 0;\n",
              "      width: 32px;\n",
              "    }\n",
              "\n",
              "    .colab-df-convert:hover {\n",
              "      background-color: #E2EBFA;\n",
              "      box-shadow: 0px 1px 2px rgba(60, 64, 67, 0.3), 0px 1px 3px 1px rgba(60, 64, 67, 0.15);\n",
              "      fill: #174EA6;\n",
              "    }\n",
              "\n",
              "    [theme=dark] .colab-df-convert {\n",
              "      background-color: #3B4455;\n",
              "      fill: #D2E3FC;\n",
              "    }\n",
              "\n",
              "    [theme=dark] .colab-df-convert:hover {\n",
              "      background-color: #434B5C;\n",
              "      box-shadow: 0px 1px 3px 1px rgba(0, 0, 0, 0.15);\n",
              "      filter: drop-shadow(0px 1px 2px rgba(0, 0, 0, 0.3));\n",
              "      fill: #FFFFFF;\n",
              "    }\n",
              "  </style>\n",
              "\n",
              "      <script>\n",
              "        const buttonEl =\n",
              "          document.querySelector('#df-9755b4c7-958b-415c-9013-4d38f158493d button.colab-df-convert');\n",
              "        buttonEl.style.display =\n",
              "          google.colab.kernel.accessAllowed ? 'block' : 'none';\n",
              "\n",
              "        async function convertToInteractive(key) {\n",
              "          const element = document.querySelector('#df-9755b4c7-958b-415c-9013-4d38f158493d');\n",
              "          const dataTable =\n",
              "            await google.colab.kernel.invokeFunction('convertToInteractive',\n",
              "                                                     [key], {});\n",
              "          if (!dataTable) return;\n",
              "\n",
              "          const docLinkHtml = 'Like what you see? Visit the ' +\n",
              "            '<a target=\"_blank\" href=https://colab.research.google.com/notebooks/data_table.ipynb>data table notebook</a>'\n",
              "            + ' to learn more about interactive tables.';\n",
              "          element.innerHTML = '';\n",
              "          dataTable['output_type'] = 'display_data';\n",
              "          await google.colab.output.renderOutput(dataTable, element);\n",
              "          const docLink = document.createElement('div');\n",
              "          docLink.innerHTML = docLinkHtml;\n",
              "          element.appendChild(docLink);\n",
              "        }\n",
              "      </script>\n",
              "    </div>\n",
              "  </div>\n",
              "  "
            ]
          },
          "metadata": {},
          "execution_count": 24
        }
      ]
    },
    {
      "cell_type": "code",
      "source": [
        "# Preprocess review text with earlier defined preprocess_text function\n",
        "\n",
        "unseen_reviews = sample_reviews['Review Text']\n",
        "\n",
        "unseen_processed = []\n",
        "for review in unseen_reviews:\n",
        "  review = preprocess_text(review)\n",
        "  unseen_processed.append(review)\n",
        "unseen_processed"
      ],
      "metadata": {
        "colab": {
          "base_uri": "https://localhost:8080/"
        },
        "id": "SGKGhOjVZJ5V",
        "outputId": "f12b89b3-b419-4b8a-e9b1-9331fe838aea"
      },
      "execution_count": null,
      "outputs": [
        {
          "output_type": "execute_result",
          "data": {
            "text/plain": [
              "['intelligent movie movie obviously allegorical fascinating tale ai mainly manipulation power wanting action spectacular cgi movie aimed people like think rather passively wait entertained themes ai also surveillance excellent points data us collected phone companies search engine companies commercial operating systems makers plot seems simple extremely clever protagonist playing games trying stay one step ahead one another movie perfectly consistent internal logic plays perfectly go expecting much however see people satisfied movie sets brilliantly therefore give least recent movies getting movie succeeds another recent movie ai transcendence think called failed interesting failure third movie ai spanish movie called eva also brilliant eva moving movie philosophical movies perfect different ways ai name movie ava seems nod title spanish movie aside nice stars appeared ex machina eva casting great course several aspects movie unrealistic often absurd allegorical movie acceptable movie making points rather striving realism fairytale accurate portrayal ',\n",
              " 'extraordinary thought provoking ex machina surprisingly dense titles alex garland written perhaps excepting annihilation simple concept given definite narrative narrative pointedly explores nature thought perception broaching nature ramifications morality psychological thriller fundamental construction minute rendering alike intense feature genre name offhand much almost classify horror movie emphasizes plays dire uncertainty intent motivation reality way climax even leaves us somewhat ambiguous ending ordinary beginning captivating ending every point ex machina absolutely marvelous performance seen oscar isaac none nearly forceful portrayal nathan exhibiting outstanding nuance sharp personality realization man exceptionally intelligent exceptionally cruel conniving especially familiar domhnall gleeson irish actor demonstrates admirable range poise readily matching traits immediately notable costars said certainly count anyone else involved alicia vikander phenomenal ava showing careful exactness every motion expression befitting character impressing skills subtle ways love score composed ben salisbury geoff barrow lending pensive unease film building great crescendo precise appropriate moments sound design exquisite soft unobtrusive qualities denoting meticulous craft feature highly advanced status ava special effects read little bit production history informs substantial effort made ensure every element nathan creation visualized utmost possibility realism think endeavor paid handsomely characters written wonderfully complex dialogue deceptively garland scene writing impeccable deeply engrossing say nothing overall narrative delves heavy subject matter even aware acclaim feature garnered since release wholly sure expect sat watch got far exceeded anything imagined mostly stepping away significantly common story ideas populate sci fi films artificial intelligence garland screenplay analyzes consciousness depth completeness potency anticipated genre picture result terrifically engaging exhilarating factor sound performances excellent music ex machina firmly first rate slice science fiction call must see ',\n",
              " 'poor story reasonable otherwise realised alex garland would bothered watching remember reading book beach years ago thinking something nice time sure seen ex machina feeling story chosen simply appeal large audience rather manipulative unthinking unfeeling way normally write bad reviews anything preferring focus positive dislike felt write something put people wasting time assimilating nastiness case ex machina imagine garland wondering would next project googling ai quickly finding ai box experiment rather heart soul searching work would necessary produce anything original imagine quickly turning somebody else idea next big proposal present film studio unoriginal idea presented fairly pedestrian way lots images derived young person view sexuality made also wonder film rather prejudiced women reasonably paced found yawning lot quite would expect good thriller domhnall gleeson ok pretty good job ',\n",
              " 'great potential movie one countless come hollywood great potential however like many personalities hollywood sold soul cheap finish beautiful ideas movie could great however producers chose go cheap thriller effect instead exploring truly makes us human machine conceived written produced idiots soul waste time redeeming part movie dweeb gets sent sticks surprised smartphone tell signal producers writers piece crap obviously signal also ',\n",
              " 'amazing visuals philosophical concepts eternals visual masterpiece inner challenges eternals face great signifier mcu moving mature meaningful phase look deeper plot events significance appreciate detail put timeline spans thousands years low underwhelming ratings seem obviously place despite fact many people loved mcu couple buff guys sexualised women transition mcu going inevitable franchise supported generations quite frankly awesome besides stunning visuals deep undertones chloe zhao certainly packs enough fight scenes possibly needed eternal represents unique power connected source cosmic energy variability allows exhilarating fight scenes arguably interesting couple punches kicks stray flying weapon love stories quaint meaningful certainly take much run time overall new age maturity deeper concepts seen movie definitely something look forward phase ',\n",
              " 'worst mcu film ever following events avengers endgame unexpected tragedy forces eternals ancient aliens living earth secret thousands years shadows reunite mankind ancient enemy deviants film far worst mcu film watch massive insuylt comics jack kirby days gender swapping eternals bad story telling makes absolutely sense unlikeable characters little action ridicules changes mcu sum bad film completely ruined endgame goods music cgi arishen well bonus points voiced david kaye good movie makes captain marvel iron man look good ']"
            ]
          },
          "metadata": {},
          "execution_count": 26
        }
      ]
    },
    {
      "cell_type": "code",
      "source": [
        "from keras.preprocessing.text import tokenizer_from_json\n",
        "# Loading\n",
        "with open('b3_tokenizer.json') as f:\n",
        "    data = json.load(f)\n",
        "    loaded_tokenizer = tokenizer_from_json(data)\n",
        "# Tokenising instance with earlier trained tokeniser\n",
        "unseen_tokenized = loaded_tokenizer.texts_to_sequences(unseen_processed)\n",
        "unseen_tokenized"
      ],
      "metadata": {
        "colab": {
          "base_uri": "https://localhost:8080/"
        },
        "id": "T5pY5fmLdEB0",
        "outputId": "f105fe0e-344b-4dfd-f0b8-7306ecbec02e"
      },
      "execution_count": null,
      "outputs": [
        {
          "output_type": "execute_result",
          "data": {
            "text/plain": [
              "[[925,\n",
              "  1,\n",
              "  1,\n",
              "  400,\n",
              "  14420,\n",
              "  1289,\n",
              "  627,\n",
              "  14035,\n",
              "  1266,\n",
              "  7357,\n",
              "  511,\n",
              "  1524,\n",
              "  97,\n",
              "  1863,\n",
              "  1370,\n",
              "  1,\n",
              "  3416,\n",
              "  16,\n",
              "  4,\n",
              "  25,\n",
              "  140,\n",
              "  20211,\n",
              "  716,\n",
              "  2161,\n",
              "  1270,\n",
              "  14035,\n",
              "  18,\n",
              "  12177,\n",
              "  199,\n",
              "  659,\n",
              "  9047,\n",
              "  76,\n",
              "  9587,\n",
              "  1378,\n",
              "  4780,\n",
              "  1464,\n",
              "  6932,\n",
              "  4780,\n",
              "  2013,\n",
              "  7929,\n",
              "  7741,\n",
              "  1034,\n",
              "  33,\n",
              "  83,\n",
              "  463,\n",
              "  435,\n",
              "  879,\n",
              "  1740,\n",
              "  282,\n",
              "  1469,\n",
              "  150,\n",
              "  626,\n",
              "  3,\n",
              "  1434,\n",
              "  1291,\n",
              "  3,\n",
              "  62,\n",
              "  1,\n",
              "  806,\n",
              "  4114,\n",
              "  5415,\n",
              "  1989,\n",
              "  191,\n",
              "  806,\n",
              "  51,\n",
              "  854,\n",
              "  13,\n",
              "  88,\n",
              "  11,\n",
              "  16,\n",
              "  4012,\n",
              "  1,\n",
              "  589,\n",
              "  1958,\n",
              "  1398,\n",
              "  93,\n",
              "  113,\n",
              "  1014,\n",
              "  24,\n",
              "  270,\n",
              "  1,\n",
              "  2759,\n",
              "  62,\n",
              "  1014,\n",
              "  1,\n",
              "  14035,\n",
              "  25602,\n",
              "  25,\n",
              "  315,\n",
              "  1064,\n",
              "  115,\n",
              "  1852,\n",
              "  736,\n",
              "  1,\n",
              "  14035,\n",
              "  1776,\n",
              "  1,\n",
              "  315,\n",
              "  3822,\n",
              "  18,\n",
              "  383,\n",
              "  3822,\n",
              "  569,\n",
              "  1,\n",
              "  4051,\n",
              "  24,\n",
              "  284,\n",
              "  164,\n",
              "  624,\n",
              "  14035,\n",
              "  261,\n",
              "  1,\n",
              "  12806,\n",
              "  83,\n",
              "  5440,\n",
              "  294,\n",
              "  1776,\n",
              "  1,\n",
              "  1011,\n",
              "  213,\n",
              "  278,\n",
              "  1374,\n",
              "  1040,\n",
              "  14943,\n",
              "  3822,\n",
              "  897,\n",
              "  17,\n",
              "  151,\n",
              "  312,\n",
              "  1264,\n",
              "  1,\n",
              "  1928,\n",
              "  285,\n",
              "  1602,\n",
              "  14420,\n",
              "  1,\n",
              "  3172,\n",
              "  1,\n",
              "  122,\n",
              "  659,\n",
              "  140,\n",
              "  13082,\n",
              "  1645,\n",
              "  10209,\n",
              "  1615,\n",
              "  937],\n",
              " [2273,\n",
              "  87,\n",
              "  2421,\n",
              "  1040,\n",
              "  14943,\n",
              "  1090,\n",
              "  10378,\n",
              "  2494,\n",
              "  1850,\n",
              "  5915,\n",
              "  281,\n",
              "  262,\n",
              "  23889,\n",
              "  22535,\n",
              "  463,\n",
              "  978,\n",
              "  238,\n",
              "  3479,\n",
              "  1189,\n",
              "  1189,\n",
              "  25409,\n",
              "  5280,\n",
              "  743,\n",
              "  87,\n",
              "  6325,\n",
              "  86112,\n",
              "  743,\n",
              "  17802,\n",
              "  3702,\n",
              "  1842,\n",
              "  556,\n",
              "  8178,\n",
              "  4576,\n",
              "  643,\n",
              "  7060,\n",
              "  3071,\n",
              "  1350,\n",
              "  636,\n",
              "  382,\n",
              "  261,\n",
              "  23467,\n",
              "  13,\n",
              "  108,\n",
              "  13083,\n",
              "  80,\n",
              "  1,\n",
              "  17003,\n",
              "  191,\n",
              "  3809,\n",
              "  10219,\n",
              "  3303,\n",
              "  3133,\n",
              "  491,\n",
              "  23,\n",
              "  1204,\n",
              "  7,\n",
              "  750,\n",
              "  76,\n",
              "  528,\n",
              "  5081,\n",
              "  154,\n",
              "  1698,\n",
              "  328,\n",
              "  3928,\n",
              "  154,\n",
              "  72,\n",
              "  109,\n",
              "  1040,\n",
              "  14943,\n",
              "  301,\n",
              "  3082,\n",
              "  129,\n",
              "  30,\n",
              "  664,\n",
              "  13617,\n",
              "  486,\n",
              "  649,\n",
              "  18339,\n",
              "  937,\n",
              "  6730,\n",
              "  21297,\n",
              "  1227,\n",
              "  8614,\n",
              "  2196,\n",
              "  1478,\n",
              "  5756,\n",
              "  43,\n",
              "  4741,\n",
              "  925,\n",
              "  4741,\n",
              "  2210,\n",
              "  8766,\n",
              "  149,\n",
              "  919,\n",
              "  22318,\n",
              "  2374,\n",
              "  168,\n",
              "  5072,\n",
              "  5765,\n",
              "  1858,\n",
              "  27237,\n",
              "  7227,\n",
              "  9940,\n",
              "  5611,\n",
              "  1049,\n",
              "  2761,\n",
              "  24288,\n",
              "  190,\n",
              "  298,\n",
              "  1332,\n",
              "  136,\n",
              "  209,\n",
              "  442,\n",
              "  7891,\n",
              "  5671,\n",
              "  12806,\n",
              "  623,\n",
              "  3996,\n",
              "  72,\n",
              "  1149,\n",
              "  2443,\n",
              "  19362,\n",
              "  28,\n",
              "  14513,\n",
              "  1884,\n",
              "  1125,\n",
              "  624,\n",
              "  35,\n",
              "  428,\n",
              "  3948,\n",
              "  1021,\n",
              "  44870,\n",
              "  19793,\n",
              "  42677,\n",
              "  17382,\n",
              "  19255,\n",
              "  14277,\n",
              "  2,\n",
              "  1179,\n",
              "  17,\n",
              "  21253,\n",
              "  7001,\n",
              "  2208,\n",
              "  265,\n",
              "  313,\n",
              "  1523,\n",
              "  5769,\n",
              "  1550,\n",
              "  17006,\n",
              "  2140,\n",
              "  74545,\n",
              "  13878,\n",
              "  3575,\n",
              "  636,\n",
              "  405,\n",
              "  4808,\n",
              "  2521,\n",
              "  12806,\n",
              "  184,\n",
              "  167,\n",
              "  220,\n",
              "  41,\n",
              "  121,\n",
              "  234,\n",
              "  352,\n",
              "  8844,\n",
              "  6752,\n",
              "  630,\n",
              "  20,\n",
              "  6507,\n",
              "  72,\n",
              "  1400,\n",
              "  6730,\n",
              "  2885,\n",
              "  24074,\n",
              "  10547,\n",
              "  3633,\n",
              "  1645,\n",
              "  25,\n",
              "  11701,\n",
              "  1335,\n",
              "  19425,\n",
              "  26,\n",
              "  281,\n",
              "  1574,\n",
              "  1143,\n",
              "  288,\n",
              "  13706,\n",
              "  5915,\n",
              "  46,\n",
              "  356,\n",
              "  7483,\n",
              "  1594,\n",
              "  5291,\n",
              "  48,\n",
              "  66,\n",
              "  322,\n",
              "  1189,\n",
              "  10076,\n",
              "  1121,\n",
              "  609,\n",
              "  365,\n",
              "  7,\n",
              "  1710,\n",
              "  8422,\n",
              "  636,\n",
              "  9825,\n",
              "  125,\n",
              "  604,\n",
              "  5314,\n",
              "  139,\n",
              "  387,\n",
              "  1623,\n",
              "  27,\n",
              "  86,\n",
              "  116,\n",
              "  10174,\n",
              "  123,\n",
              "  3709,\n",
              "  539,\n",
              "  8938,\n",
              "  130,\n",
              "  8072,\n",
              "  958,\n",
              "  9,\n",
              "  863,\n",
              "  13650,\n",
              "  699,\n",
              "  692,\n",
              "  29,\n",
              "  4716,\n",
              "  1583,\n",
              "  5915,\n",
              "  771,\n",
              "  33051,\n",
              "  5853,\n",
              "  968,\n",
              "  30802,\n",
              "  27471,\n",
              "  7237,\n",
              "  382,\n",
              "  314,\n",
              "  792,\n",
              "  13216,\n",
              "  1622,\n",
              "  10662,\n",
              "  2044,\n",
              "  313,\n",
              "  244,\n",
              "  199,\n",
              "  100,\n",
              "  1040,\n",
              "  14943,\n",
              "  5245,\n",
              "  19,\n",
              "  808,\n",
              "  4902,\n",
              "  922,\n",
              "  1023,\n",
              "  522,\n",
              "  96,\n",
              "  11],\n",
              " [216,\n",
              "  9,\n",
              "  3439,\n",
              "  760,\n",
              "  5000,\n",
              "  1850,\n",
              "  5915,\n",
              "  8,\n",
              "  2324,\n",
              "  54,\n",
              "  269,\n",
              "  748,\n",
              "  161,\n",
              "  2006,\n",
              "  58,\n",
              "  464,\n",
              "  404,\n",
              "  50,\n",
              "  213,\n",
              "  6,\n",
              "  139,\n",
              "  30,\n",
              "  1040,\n",
              "  14943,\n",
              "  423,\n",
              "  9,\n",
              "  2163,\n",
              "  217,\n",
              "  1163,\n",
              "  871,\n",
              "  185,\n",
              "  140,\n",
              "  4927,\n",
              "  23860,\n",
              "  21803,\n",
              "  23,\n",
              "  1708,\n",
              "  747,\n",
              "  14,\n",
              "  674,\n",
              "  123,\n",
              "  15304,\n",
              "  971,\n",
              "  992,\n",
              "  2918,\n",
              "  321,\n",
              "  747,\n",
              "  50,\n",
              "  155,\n",
              "  16,\n",
              "  2970,\n",
              "  6,\n",
              "  40801,\n",
              "  15273,\n",
              "  290,\n",
              "  1040,\n",
              "  14943,\n",
              "  679,\n",
              "  5915,\n",
              "  1357,\n",
              "  8,\n",
              "  246,\n",
              "  974,\n",
              "  87904,\n",
              "  14035,\n",
              "  774,\n",
              "  1273,\n",
              "  14035,\n",
              "  714,\n",
              "  2705,\n",
              "  140,\n",
              "  354,\n",
              "  1116,\n",
              "  2975,\n",
              "  64,\n",
              "  8,\n",
              "  1570,\n",
              "  2154,\n",
              "  123,\n",
              "  102,\n",
              "  679,\n",
              "  774,\n",
              "  1433,\n",
              "  1566,\n",
              "  209,\n",
              "  206,\n",
              "  246,\n",
              "  89,\n",
              "  10042,\n",
              "  826,\n",
              "  2,\n",
              "  988,\n",
              "  4236,\n",
              "  206,\n",
              "  1207,\n",
              "  841,\n",
              "  6386,\n",
              "  23,\n",
              "  595,\n",
              "  990,\n",
              "  7531,\n",
              "  84,\n",
              "  266,\n",
              "  490,\n",
              "  2787,\n",
              "  20,\n",
              "  18,\n",
              "  440,\n",
              "  2,\n",
              "  140,\n",
              "  14257,\n",
              "  250,\n",
              "  3490,\n",
              "  1617,\n",
              "  142,\n",
              "  15331,\n",
              "  70,\n",
              "  78,\n",
              "  8,\n",
              "  387,\n",
              "  5,\n",
              "  556,\n",
              "  22318,\n",
              "  430,\n",
              "  81,\n",
              "  5,\n",
              "  181],\n",
              " [17,\n",
              "  865,\n",
              "  1,\n",
              "  3,\n",
              "  3505,\n",
              "  107,\n",
              "  233,\n",
              "  17,\n",
              "  865,\n",
              "  88,\n",
              "  4,\n",
              "  32,\n",
              "  3110,\n",
              "  233,\n",
              "  2747,\n",
              "  1116,\n",
              "  560,\n",
              "  1213,\n",
              "  197,\n",
              "  863,\n",
              "  1,\n",
              "  22,\n",
              "  17,\n",
              "  88,\n",
              "  994,\n",
              "  2260,\n",
              "  51,\n",
              "  560,\n",
              "  556,\n",
              "  769,\n",
              "  186,\n",
              "  5178,\n",
              "  249,\n",
              "  65,\n",
              "  76,\n",
              "  271,\n",
              "  1362,\n",
              "  3760,\n",
              "  281,\n",
              "  864,\n",
              "  3473,\n",
              "  1116,\n",
              "  325,\n",
              "  6,\n",
              "  1521,\n",
              "  73,\n",
              "  1,\n",
              "  25815,\n",
              "  111,\n",
              "  1232,\n",
              "  3604,\n",
              "  621,\n",
              "  254,\n",
              "  11284,\n",
              "  994,\n",
              "  800,\n",
              "  292,\n",
              "  444,\n",
              "  400,\n",
              "  11284,\n",
              "  18],\n",
              " [367,\n",
              "  1849,\n",
              "  4051,\n",
              "  5073,\n",
              "  920,\n",
              "  770,\n",
              "  2420,\n",
              "  5456,\n",
              "  273,\n",
              "  17,\n",
              "  569,\n",
              "  2442,\n",
              "  2980,\n",
              "  6581,\n",
              "  67,\n",
              "  2588,\n",
              "  33,\n",
              "  565,\n",
              "  5002,\n",
              "  957,\n",
              "  1383,\n",
              "  155,\n",
              "  12767,\n",
              "  13429,\n",
              "  2801,\n",
              "  58,\n",
              "  240,\n",
              "  11151,\n",
              "  2591,\n",
              "  195,\n",
              "  400,\n",
              "  159,\n",
              "  341,\n",
              "  91,\n",
              "  32,\n",
              "  16,\n",
              "  304,\n",
              "  251,\n",
              "  3927,\n",
              "  319,\n",
              "  77793,\n",
              "  250,\n",
              "  4830,\n",
              "  68,\n",
              "  3393,\n",
              "  2861,\n",
              "  5569,\n",
              "  5097,\n",
              "  78,\n",
              "  1854,\n",
              "  998,\n",
              "  1196,\n",
              "  1251,\n",
              "  1849,\n",
              "  693,\n",
              "  10473,\n",
              "  8430,\n",
              "  24746,\n",
              "  298,\n",
              "  6774,\n",
              "  92,\n",
              "  421,\n",
              "  49,\n",
              "  758,\n",
              "  741,\n",
              "  5559,\n",
              "  3527,\n",
              "  798,\n",
              "  511,\n",
              "  3159,\n",
              "  2214,\n",
              "  12475,\n",
              "  1535,\n",
              "  1993,\n",
              "  10662,\n",
              "  421,\n",
              "  49,\n",
              "  4423,\n",
              "  115,\n",
              "  251,\n",
              "  5674,\n",
              "  3143,\n",
              "  10297,\n",
              "  1514,\n",
              "  2929,\n",
              "  35,\n",
              "  433,\n",
              "  10066,\n",
              "  2980,\n",
              "  298,\n",
              "  85,\n",
              "  13,\n",
              "  364,\n",
              "  6,\n",
              "  322,\n",
              "  71,\n",
              "  436,\n",
              "  8603,\n",
              "  2588,\n",
              "  5073,\n",
              "  30,\n",
              "  1,\n",
              "  283,\n",
              "  50,\n",
              "  67,\n",
              "  763,\n",
              "  6581],\n",
              " [133,\n",
              "  2,\n",
              "  42,\n",
              "  794,\n",
              "  565,\n",
              "  15155,\n",
              "  28863,\n",
              "  1915,\n",
              "  1448,\n",
              "  1711,\n",
              "  2066,\n",
              "  1759,\n",
              "  447,\n",
              "  561,\n",
              "  840,\n",
              "  2801,\n",
              "  58,\n",
              "  3047,\n",
              "  8281,\n",
              "  4115,\n",
              "  2066,\n",
              "  1949,\n",
              "  32617,\n",
              "  2,\n",
              "  116,\n",
              "  133,\n",
              "  2,\n",
              "  27,\n",
              "  2371,\n",
              "  3603,\n",
              "  523,\n",
              "  23450,\n",
              "  350,\n",
              "  4973,\n",
              "  17597,\n",
              "  14,\n",
              "  9,\n",
              "  838,\n",
              "  65,\n",
              "  301,\n",
              "  169,\n",
              "  5183,\n",
              "  26,\n",
              "  41,\n",
              "  97,\n",
              "  13936,\n",
              "  1159,\n",
              "  2772,\n",
              "  14,\n",
              "  2,\n",
              "  219,\n",
              "  2230,\n",
              "  28863,\n",
              "  6241,\n",
              "  100,\n",
              "  1370,\n",
              "  12,\n",
              "  4185,\n",
              "  659,\n",
              "  4089,\n",
              "  466,\n",
              "  12639,\n",
              "  5,\n",
              "  1,\n",
              "  65,\n",
              "  1431,\n",
              "  5475,\n",
              "  3833,\n",
              "  43,\n",
              "  67,\n",
              "  5]]"
            ]
          },
          "metadata": {},
          "execution_count": 28
        }
      ]
    },
    {
      "cell_type": "code",
      "source": [
        "# Pooling instance to have maxlength of 100 tokens\n",
        "unseen_padded = pad_sequences(unseen_tokenized, padding='post', maxlen=100)\n",
        "unseen_padded"
      ],
      "metadata": {
        "colab": {
          "base_uri": "https://localhost:8080/"
        },
        "id": "WnBPy6zmeKRG",
        "outputId": "81840b16-fec9-446a-e41b-f74b0895f54d"
      },
      "execution_count": null,
      "outputs": [
        {
          "output_type": "execute_result",
          "data": {
            "text/plain": [
              "array([[  879,  1740,   282,  1469,   150,   626,     3,  1434,  1291,\n",
              "            3,    62,     1,   806,  4114,  5415,  1989,   191,   806,\n",
              "           51,   854,    13,    88,    11,    16,  4012,     1,   589,\n",
              "         1958,  1398,    93,   113,  1014,    24,   270,     1,  2759,\n",
              "           62,  1014,     1, 14035, 25602,    25,   315,  1064,   115,\n",
              "         1852,   736,     1, 14035,  1776,     1,   315,  3822,    18,\n",
              "          383,  3822,   569,     1,  4051,    24,   284,   164,   624,\n",
              "        14035,   261,     1, 12806,    83,  5440,   294,  1776,     1,\n",
              "         1011,   213,   278,  1374,  1040, 14943,  3822,   897,    17,\n",
              "          151,   312,  1264,     1,  1928,   285,  1602, 14420,     1,\n",
              "         3172,     1,   122,   659,   140, 13082,  1645, 10209,  1615,\n",
              "          937],\n",
              "       [  121,   234,   352,  8844,  6752,   630,    20,  6507,    72,\n",
              "         1400,  6730,  2885, 24074, 10547,  3633,  1645,    25, 11701,\n",
              "         1335, 19425,    26,   281,  1574,  1143,   288, 13706,  5915,\n",
              "           46,   356,  7483,  1594,  5291,    48,    66,   322,  1189,\n",
              "        10076,  1121,   609,   365,     7,  1710,  8422,   636,  9825,\n",
              "          125,   604,  5314,   139,   387,  1623,    27,    86,   116,\n",
              "        10174,   123,  3709,   539,  8938,   130,  8072,   958,     9,\n",
              "          863, 13650,   699,   692,    29,  4716,  1583,  5915,   771,\n",
              "        33051,  5853,   968, 30802, 27471,  7237,   382,   314,   792,\n",
              "        13216,  1622, 10662,  2044,   313,   244,   199,   100,  1040,\n",
              "        14943,  5245,    19,   808,  4902,   922,  1023,   522,    96,\n",
              "           11],\n",
              "       [  217,  1163,   871,   185,   140,  4927, 23860, 21803,    23,\n",
              "         1708,   747,    14,   674,   123, 15304,   971,   992,  2918,\n",
              "          321,   747,    50,   155,    16,  2970,     6, 40801, 15273,\n",
              "          290,  1040, 14943,   679,  5915,  1357,     8,   246,   974,\n",
              "        87904, 14035,   774,  1273, 14035,   714,  2705,   140,   354,\n",
              "         1116,  2975,    64,     8,  1570,  2154,   123,   102,   679,\n",
              "          774,  1433,  1566,   209,   206,   246,    89, 10042,   826,\n",
              "            2,   988,  4236,   206,  1207,   841,  6386,    23,   595,\n",
              "          990,  7531,    84,   266,   490,  2787,    20,    18,   440,\n",
              "            2,   140, 14257,   250,  3490,  1617,   142, 15331,    70,\n",
              "           78,     8,   387,     5,   556, 22318,   430,    81,     5,\n",
              "          181],\n",
              "       [   17,   865,     1,     3,  3505,   107,   233,    17,   865,\n",
              "           88,     4,    32,  3110,   233,  2747,  1116,   560,  1213,\n",
              "          197,   863,     1,    22,    17,    88,   994,  2260,    51,\n",
              "          560,   556,   769,   186,  5178,   249,    65,    76,   271,\n",
              "         1362,  3760,   281,   864,  3473,  1116,   325,     6,  1521,\n",
              "           73,     1, 25815,   111,  1232,  3604,   621,   254, 11284,\n",
              "          994,   800,   292,   444,   400, 11284,    18,     0,     0,\n",
              "            0,     0,     0,     0,     0,     0,     0,     0,     0,\n",
              "            0,     0,     0,     0,     0,     0,     0,     0,     0,\n",
              "            0,     0,     0,     0,     0,     0,     0,     0,     0,\n",
              "            0,     0,     0,     0,     0,     0,     0,     0,     0,\n",
              "            0],\n",
              "       [ 5456,   273,    17,   569,  2442,  2980,  6581,    67,  2588,\n",
              "           33,   565,  5002,   957,  1383,   155, 12767, 13429,  2801,\n",
              "           58,   240, 11151,  2591,   195,   400,   159,   341,    91,\n",
              "           32,    16,   304,   251,  3927,   319, 77793,   250,  4830,\n",
              "           68,  3393,  2861,  5569,  5097,    78,  1854,   998,  1196,\n",
              "         1251,  1849,   693, 10473,  8430, 24746,   298,  6774,    92,\n",
              "          421,    49,   758,   741,  5559,  3527,   798,   511,  3159,\n",
              "         2214, 12475,  1535,  1993, 10662,   421,    49,  4423,   115,\n",
              "          251,  5674,  3143, 10297,  1514,  2929,    35,   433, 10066,\n",
              "         2980,   298,    85,    13,   364,     6,   322,    71,   436,\n",
              "         8603,  2588,  5073,    30,     1,   283,    50,    67,   763,\n",
              "         6581],\n",
              "       [  133,     2,    42,   794,   565, 15155, 28863,  1915,  1448,\n",
              "         1711,  2066,  1759,   447,   561,   840,  2801,    58,  3047,\n",
              "         8281,  4115,  2066,  1949, 32617,     2,   116,   133,     2,\n",
              "           27,  2371,  3603,   523, 23450,   350,  4973, 17597,    14,\n",
              "            9,   838,    65,   301,   169,  5183,    26,    41,    97,\n",
              "        13936,  1159,  2772,    14,     2,   219,  2230, 28863,  6241,\n",
              "          100,  1370,    12,  4185,   659,  4089,   466, 12639,     5,\n",
              "            1,    65,  1431,  5475,  3833,    43,    67,     5,     0,\n",
              "            0,     0,     0,     0,     0,     0,     0,     0,     0,\n",
              "            0,     0,     0,     0,     0,     0,     0,     0,     0,\n",
              "            0,     0,     0,     0,     0,     0,     0,     0,     0,\n",
              "            0]], dtype=int32)"
            ]
          },
          "metadata": {},
          "execution_count": 29
        }
      ]
    },
    {
      "cell_type": "code",
      "source": [
        "# Passing tokenised instance to the LSTM model for predictions\n",
        "unseen_sentiments = pretrained_lstm_model.predict(unseen_padded)\n",
        "unseen_sentiments"
      ],
      "metadata": {
        "colab": {
          "base_uri": "https://localhost:8080/"
        },
        "id": "x0ThVkisef3u",
        "outputId": "b1d4ba46-7c3c-4686-9200-dd5ac055da90"
      },
      "execution_count": null,
      "outputs": [
        {
          "output_type": "stream",
          "name": "stdout",
          "text": [
            "1/1 [==============================] - 0s 485ms/step\n"
          ]
        },
        {
          "output_type": "execute_result",
          "data": {
            "text/plain": [
              "array([[0.9010402 ],\n",
              "       [0.9944804 ],\n",
              "       [0.16049351],\n",
              "       [0.35537788],\n",
              "       [0.95427036],\n",
              "       [0.01944627]], dtype=float32)"
            ]
          },
          "metadata": {},
          "execution_count": 30
        }
      ]
    },
    {
      "cell_type": "code",
      "source": [
        "# Writing model output file back to Google Drive\n",
        "\n",
        "sample_reviews['Predicted Sentiments'] = np.round(unseen_sentiments*10,1)\n",
        "df_prediction_sentiments = pd.DataFrame(sample_reviews['Predicted Sentiments'], columns = ['Predicted Sentiments'])\n",
        "df_movie = pd.DataFrame(sample_reviews['Movie'], columns = ['Movie'])\n",
        "df_review_text = pd.DataFrame(sample_reviews['Review Text'], columns = ['Review Text'])\n",
        "df_imdb_rating = pd.DataFrame(sample_reviews['IMDb Rating'], columns = ['IMDb Rating'])\n",
        "dfx=pd.concat([df_movie, df_review_text, df_imdb_rating, df_prediction_sentiments], axis=1)\n",
        "dfx.to_csv(\"c2_IMDb_Unseen_Predictions.csv\", sep=',', encoding='UTF-8')\n",
        "dfx.head(6)"
      ],
      "metadata": {
        "colab": {
          "base_uri": "https://localhost:8080/",
          "height": 237
        },
        "id": "uouvtSC_e4YG",
        "outputId": "76569f93-0c5d-414c-868f-f96e15f6440c"
      },
      "execution_count": null,
      "outputs": [
        {
          "output_type": "execute_result",
          "data": {
            "text/plain": [
              "        Movie                                        Review Text  IMDb Rating  \\\n",
              "0  Ex Machina  Intelligent Movie.\\nThis movie is obviously al...            9   \n",
              "1  Ex Machina  Extraordinary and thought-provoking.\\n'Ex mach...           10   \n",
              "2  Ex Machina  Poor story, only reasonable otherwise.\\nIf I h...            3   \n",
              "3  Ex Machina  Had Great Potential.\\nThis movie is one of the...            1   \n",
              "4    Eternals  Amazing visuals and philosophical concepts!\\n\\...           10   \n",
              "5    Eternals  Worst MCU film ever\\n\\nFollowing the events of...            3   \n",
              "\n",
              "   Predicted Sentiments  \n",
              "0                   9.0  \n",
              "1                   9.9  \n",
              "2                   1.6  \n",
              "3                   3.6  \n",
              "4                   9.5  \n",
              "5                   0.2  "
            ],
            "text/html": [
              "\n",
              "  <div id=\"df-a3ad70bb-32e6-45a8-a0dd-1811479da97c\">\n",
              "    <div class=\"colab-df-container\">\n",
              "      <div>\n",
              "<style scoped>\n",
              "    .dataframe tbody tr th:only-of-type {\n",
              "        vertical-align: middle;\n",
              "    }\n",
              "\n",
              "    .dataframe tbody tr th {\n",
              "        vertical-align: top;\n",
              "    }\n",
              "\n",
              "    .dataframe thead th {\n",
              "        text-align: right;\n",
              "    }\n",
              "</style>\n",
              "<table border=\"1\" class=\"dataframe\">\n",
              "  <thead>\n",
              "    <tr style=\"text-align: right;\">\n",
              "      <th></th>\n",
              "      <th>Movie</th>\n",
              "      <th>Review Text</th>\n",
              "      <th>IMDb Rating</th>\n",
              "      <th>Predicted Sentiments</th>\n",
              "    </tr>\n",
              "  </thead>\n",
              "  <tbody>\n",
              "    <tr>\n",
              "      <th>0</th>\n",
              "      <td>Ex Machina</td>\n",
              "      <td>Intelligent Movie.\\nThis movie is obviously al...</td>\n",
              "      <td>9</td>\n",
              "      <td>9.0</td>\n",
              "    </tr>\n",
              "    <tr>\n",
              "      <th>1</th>\n",
              "      <td>Ex Machina</td>\n",
              "      <td>Extraordinary and thought-provoking.\\n'Ex mach...</td>\n",
              "      <td>10</td>\n",
              "      <td>9.9</td>\n",
              "    </tr>\n",
              "    <tr>\n",
              "      <th>2</th>\n",
              "      <td>Ex Machina</td>\n",
              "      <td>Poor story, only reasonable otherwise.\\nIf I h...</td>\n",
              "      <td>3</td>\n",
              "      <td>1.6</td>\n",
              "    </tr>\n",
              "    <tr>\n",
              "      <th>3</th>\n",
              "      <td>Ex Machina</td>\n",
              "      <td>Had Great Potential.\\nThis movie is one of the...</td>\n",
              "      <td>1</td>\n",
              "      <td>3.6</td>\n",
              "    </tr>\n",
              "    <tr>\n",
              "      <th>4</th>\n",
              "      <td>Eternals</td>\n",
              "      <td>Amazing visuals and philosophical concepts!\\n\\...</td>\n",
              "      <td>10</td>\n",
              "      <td>9.5</td>\n",
              "    </tr>\n",
              "    <tr>\n",
              "      <th>5</th>\n",
              "      <td>Eternals</td>\n",
              "      <td>Worst MCU film ever\\n\\nFollowing the events of...</td>\n",
              "      <td>3</td>\n",
              "      <td>0.2</td>\n",
              "    </tr>\n",
              "  </tbody>\n",
              "</table>\n",
              "</div>\n",
              "      <button class=\"colab-df-convert\" onclick=\"convertToInteractive('df-a3ad70bb-32e6-45a8-a0dd-1811479da97c')\"\n",
              "              title=\"Convert this dataframe to an interactive table.\"\n",
              "              style=\"display:none;\">\n",
              "        \n",
              "  <svg xmlns=\"http://www.w3.org/2000/svg\" height=\"24px\"viewBox=\"0 0 24 24\"\n",
              "       width=\"24px\">\n",
              "    <path d=\"M0 0h24v24H0V0z\" fill=\"none\"/>\n",
              "    <path d=\"M18.56 5.44l.94 2.06.94-2.06 2.06-.94-2.06-.94-.94-2.06-.94 2.06-2.06.94zm-11 1L8.5 8.5l.94-2.06 2.06-.94-2.06-.94L8.5 2.5l-.94 2.06-2.06.94zm10 10l.94 2.06.94-2.06 2.06-.94-2.06-.94-.94-2.06-.94 2.06-2.06.94z\"/><path d=\"M17.41 7.96l-1.37-1.37c-.4-.4-.92-.59-1.43-.59-.52 0-1.04.2-1.43.59L10.3 9.45l-7.72 7.72c-.78.78-.78 2.05 0 2.83L4 21.41c.39.39.9.59 1.41.59.51 0 1.02-.2 1.41-.59l7.78-7.78 2.81-2.81c.8-.78.8-2.07 0-2.86zM5.41 20L4 18.59l7.72-7.72 1.47 1.35L5.41 20z\"/>\n",
              "  </svg>\n",
              "      </button>\n",
              "      \n",
              "  <style>\n",
              "    .colab-df-container {\n",
              "      display:flex;\n",
              "      flex-wrap:wrap;\n",
              "      gap: 12px;\n",
              "    }\n",
              "\n",
              "    .colab-df-convert {\n",
              "      background-color: #E8F0FE;\n",
              "      border: none;\n",
              "      border-radius: 50%;\n",
              "      cursor: pointer;\n",
              "      display: none;\n",
              "      fill: #1967D2;\n",
              "      height: 32px;\n",
              "      padding: 0 0 0 0;\n",
              "      width: 32px;\n",
              "    }\n",
              "\n",
              "    .colab-df-convert:hover {\n",
              "      background-color: #E2EBFA;\n",
              "      box-shadow: 0px 1px 2px rgba(60, 64, 67, 0.3), 0px 1px 3px 1px rgba(60, 64, 67, 0.15);\n",
              "      fill: #174EA6;\n",
              "    }\n",
              "\n",
              "    [theme=dark] .colab-df-convert {\n",
              "      background-color: #3B4455;\n",
              "      fill: #D2E3FC;\n",
              "    }\n",
              "\n",
              "    [theme=dark] .colab-df-convert:hover {\n",
              "      background-color: #434B5C;\n",
              "      box-shadow: 0px 1px 3px 1px rgba(0, 0, 0, 0.15);\n",
              "      filter: drop-shadow(0px 1px 2px rgba(0, 0, 0, 0.3));\n",
              "      fill: #FFFFFF;\n",
              "    }\n",
              "  </style>\n",
              "\n",
              "      <script>\n",
              "        const buttonEl =\n",
              "          document.querySelector('#df-a3ad70bb-32e6-45a8-a0dd-1811479da97c button.colab-df-convert');\n",
              "        buttonEl.style.display =\n",
              "          google.colab.kernel.accessAllowed ? 'block' : 'none';\n",
              "\n",
              "        async function convertToInteractive(key) {\n",
              "          const element = document.querySelector('#df-a3ad70bb-32e6-45a8-a0dd-1811479da97c');\n",
              "          const dataTable =\n",
              "            await google.colab.kernel.invokeFunction('convertToInteractive',\n",
              "                                                     [key], {});\n",
              "          if (!dataTable) return;\n",
              "\n",
              "          const docLinkHtml = 'Like what you see? Visit the ' +\n",
              "            '<a target=\"_blank\" href=https://colab.research.google.com/notebooks/data_table.ipynb>data table notebook</a>'\n",
              "            + ' to learn more about interactive tables.';\n",
              "          element.innerHTML = '';\n",
              "          dataTable['output_type'] = 'display_data';\n",
              "          await google.colab.output.renderOutput(dataTable, element);\n",
              "          const docLink = document.createElement('div');\n",
              "          docLink.innerHTML = docLinkHtml;\n",
              "          element.appendChild(docLink);\n",
              "        }\n",
              "      </script>\n",
              "    </div>\n",
              "  </div>\n",
              "  "
            ]
          },
          "metadata": {},
          "execution_count": 31
        }
      ]
    }
  ]
}